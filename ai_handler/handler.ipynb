{
 "cells": [
  {
   "cell_type": "code",
   "execution_count": 1,
   "metadata": {},
   "outputs": [],
   "source": [
    "import requests\n",
    "import os"
   ]
  },
  {
   "cell_type": "code",
   "execution_count": 2,
   "metadata": {},
   "outputs": [],
   "source": [
    "\n",
    "\n",
    "# Define the API endpoint and API key\n",
    "url = \"https://newsapi.org/v2/everything\"\n",
    "\n",
    "\n",
    "# Define the query parameters\n",
    "params = {\n",
    "    \"q\": \"finance\",\n",
    "    \"apiKey\": os.environ.get(\"NEWS_API_KEY\"),\n",
    "}\n",
    "\n",
    "# Make the GET request\n",
    "response = requests.get(url, params=params)\n",
    "\n",
    "# Check if the request was successful\n",
    "if response.status_code == 200:\n",
    "    data = response.json()  # Parse the response as JSON\n",
    "    articles = data.get(\"articles\", [])  # Extract the articles list\n",
    "    \n",
    "    list_news = []\n",
    "    \n",
    "    # Extract and print the required fields from each article\n",
    "    for article in articles:\n",
    "        try:\n",
    "            news_object = {\n",
    "                \"title\": article.get(\"title\") or \"\",\n",
    "                \"description\": article.get(\"description\") or \"\",\n",
    "                \"url\": article.get(\"url\") or \"\",\n",
    "                \"publishedAt\": article.get(\"publishedAt\") or \"\",\n",
    "                \"content\": article.get(\"content\") or \"\",\n",
    "            }\n",
    "            \n",
    "            content = article.get(\"content\") or \"\"\n",
    "            title = article.get(\"title\") or \"\"\n",
    "            url = article.get(\"url\") or \"\"\n",
    "            description = article.get(\"description\") or \"\"\n",
    "            published_at = article.get(\"publishedAt\") or \"\"\n",
    "            list_news.append(news_object)\n",
    "            \n",
    "        except Exception as e:\n",
    "            print(f\"An error occurred: {e}\")\n",
    "else:\n",
    "    print(f\"Failed to fetch articles. Status code: {response.status_code}\")\n"
   ]
  },
  {
   "cell_type": "code",
   "execution_count": 3,
   "metadata": {},
   "outputs": [
    {
     "name": "stdout",
     "output_type": "stream",
     "text": [
      "CSV file 'news_articles.csv' has been created successfully.\n"
     ]
    }
   ],
   "source": [
    "import csv\n",
    "\n",
    "# Define the CSV file name\n",
    "csv_file = \"news_articles.csv\"\n",
    "\n",
    "# Open the CSV file for writing\n",
    "with open(csv_file, mode=\"w\", newline=\"\", encoding=\"utf-8\") as file:\n",
    "    writer = csv.DictWriter(file, fieldnames=[\"title\", \"description\", \"url\", \"publishedAt\", \"content\"])\n",
    "    writer.writeheader()  # Write the header row\n",
    "    writer.writerows(list_news)  # Write the articles\n",
    "\n",
    "print(f\"CSV file '{csv_file}' has been created successfully.\")"
   ]
  },
  {
   "cell_type": "code",
   "execution_count": 4,
   "metadata": {},
   "outputs": [
    {
     "data": {
      "text/html": [
       "<div>\n",
       "<style scoped>\n",
       "    .dataframe tbody tr th:only-of-type {\n",
       "        vertical-align: middle;\n",
       "    }\n",
       "\n",
       "    .dataframe tbody tr th {\n",
       "        vertical-align: top;\n",
       "    }\n",
       "\n",
       "    .dataframe thead th {\n",
       "        text-align: right;\n",
       "    }\n",
       "</style>\n",
       "<table border=\"1\" class=\"dataframe\">\n",
       "  <thead>\n",
       "    <tr style=\"text-align: right;\">\n",
       "      <th></th>\n",
       "      <th>title</th>\n",
       "      <th>description</th>\n",
       "      <th>url</th>\n",
       "      <th>publishedAt</th>\n",
       "      <th>content</th>\n",
       "    </tr>\n",
       "  </thead>\n",
       "  <tbody>\n",
       "    <tr>\n",
       "      <th>37</th>\n",
       "      <td>Stripe CFO joins the board of $3 billion AI st...</td>\n",
       "      <td>Steffan Tomlinson has experience taking tech s...</td>\n",
       "      <td>https://www.businessinsider.com/stripe-cfo-ste...</td>\n",
       "      <td>2024-12-17T16:01:01Z</td>\n",
       "      <td>Steffan Tomlinson (right) joined Vercel's boar...</td>\n",
       "    </tr>\n",
       "    <tr>\n",
       "      <th>74</th>\n",
       "      <td>Francis Ford Coppola Picks His Favorite Criter...</td>\n",
       "      <td>Upon stepping into the hallowed Criterion Clos...</td>\n",
       "      <td>https://www.openculture.com/?p=1121369</td>\n",
       "      <td>2024-12-26T09:00:54Z</td>\n",
       "      <td>Upon step­ping into the hal­lowed Cri­te­ri­on...</td>\n",
       "    </tr>\n",
       "    <tr>\n",
       "      <th>80</th>\n",
       "      <td>Canada Prime Minister Justin Trudeau to Step D...</td>\n",
       "      <td>Canadian Prime Minister Justin Trudeau is step...</td>\n",
       "      <td>https://time.com/7205012/justin-trudeau-resign...</td>\n",
       "      <td>2025-01-06T16:16:48Z</td>\n",
       "      <td>Canadian Prime Minister Justin Trudeau is step...</td>\n",
       "    </tr>\n",
       "    <tr>\n",
       "      <th>86</th>\n",
       "      <td>AI model for near-instant image creation on co...</td>\n",
       "      <td>Comments</td>\n",
       "      <td>https://www.surrey.ac.uk/news/surrey-announces...</td>\n",
       "      <td>2024-12-10T16:44:52Z</td>\n",
       "      <td>The technology is available immediately throug...</td>\n",
       "    </tr>\n",
       "    <tr>\n",
       "      <th>34</th>\n",
       "      <td>Canada's Justin Trudeau says he will resign as...</td>\n",
       "      <td>Trudeau's decision after almost a decade in po...</td>\n",
       "      <td>https://www.npr.org/2025/01/06/nx-s1-5249766/j...</td>\n",
       "      <td>2025-01-06T16:22:31Z</td>\n",
       "      <td>Canadian Prime Minister Justin Trudeau announc...</td>\n",
       "    </tr>\n",
       "  </tbody>\n",
       "</table>\n",
       "</div>"
      ],
      "text/plain": [
       "                                                title  \\\n",
       "37  Stripe CFO joins the board of $3 billion AI st...   \n",
       "74  Francis Ford Coppola Picks His Favorite Criter...   \n",
       "80  Canada Prime Minister Justin Trudeau to Step D...   \n",
       "86  AI model for near-instant image creation on co...   \n",
       "34  Canada's Justin Trudeau says he will resign as...   \n",
       "\n",
       "                                          description  \\\n",
       "37  Steffan Tomlinson has experience taking tech s...   \n",
       "74  Upon stepping into the hallowed Criterion Clos...   \n",
       "80  Canadian Prime Minister Justin Trudeau is step...   \n",
       "86                                           Comments   \n",
       "34  Trudeau's decision after almost a decade in po...   \n",
       "\n",
       "                                                  url           publishedAt  \\\n",
       "37  https://www.businessinsider.com/stripe-cfo-ste...  2024-12-17T16:01:01Z   \n",
       "74             https://www.openculture.com/?p=1121369  2024-12-26T09:00:54Z   \n",
       "80  https://time.com/7205012/justin-trudeau-resign...  2025-01-06T16:16:48Z   \n",
       "86  https://www.surrey.ac.uk/news/surrey-announces...  2024-12-10T16:44:52Z   \n",
       "34  https://www.npr.org/2025/01/06/nx-s1-5249766/j...  2025-01-06T16:22:31Z   \n",
       "\n",
       "                                              content  \n",
       "37  Steffan Tomlinson (right) joined Vercel's boar...  \n",
       "74  Upon step­ping into the hal­lowed Cri­te­ri­on...  \n",
       "80  Canadian Prime Minister Justin Trudeau is step...  \n",
       "86  The technology is available immediately throug...  \n",
       "34  Canadian Prime Minister Justin Trudeau announc...  "
      ]
     },
     "execution_count": 4,
     "metadata": {},
     "output_type": "execute_result"
    }
   ],
   "source": [
    "import pandas as pd\n",
    "\n",
    "dataset = pd.read_csv(\"news_articles.csv\")\n",
    "dataset.sample(5)"
   ]
  },
  {
   "cell_type": "code",
   "execution_count": 33,
   "metadata": {},
   "outputs": [],
   "source": [
    "dataset.isnull().sum()\n",
    "\n",
    "dataset.dropna(inplace=True)"
   ]
  },
  {
   "cell_type": "code",
   "execution_count": 34,
   "metadata": {},
   "outputs": [
    {
     "name": "stdout",
     "output_type": "stream",
     "text": [
      "                                                title  \\\n",
      "0       Car loan scandal payout fears as row drags on   \n",
      "1   The 5 best US cities to celebrate New Year's E...   \n",
      "2   Dave Ramsey's 2 tips as people prepare to spen...   \n",
      "3   Canadian Man Crowned as King of Spreadsheets a...   \n",
      "4   Canada's finance minister resigns, posing bigg...   \n",
      "..                                                ...   \n",
      "89  Act Now to Lock In Up to 4.70% APY. Today's CD...   \n",
      "90  Apple @ Work: The future of the Mac in the wor...   \n",
      "91  Canada finance minister resigns as PM Trudeau ...   \n",
      "92  Elon Musk Says U.S. Needs More Power – But Ris...   \n",
      "93  4 Financial Habits To Break After Age 50 If Yo...   \n",
      "\n",
      "                                          description  \\\n",
      "0   People who were unaware of commission paid whe...   \n",
      "1   The personal finance website WalletHub compare...   \n",
      "2   Dave Ramsey, a personal finance star, advised ...   \n",
      "3   Guess you could say this guy really excels at ...   \n",
      "4   The stunning move raised questions about how m...   \n",
      "..                                                ...   \n",
      "89  The Fed's latest rate cut means today's CD rat...   \n",
      "90  Apple @ Work is exclusively brought to you by ...   \n",
      "91  Chrystia Freeland cites Canadian government's ...   \n",
      "92  As Tesla Inc CEO Elon Musk predicts U.S. elect...   \n",
      "93  Reckless spending, ignoring savings and taking...   \n",
      "\n",
      "                                                  url           publishedAt  \\\n",
      "0      https://www.bbc.com/news/articles/cp3z9l3q5zeo  2024-12-09T00:10:53Z   \n",
      "1   https://www.businessinsider.com/top-5-us-citie...  2024-12-28T10:08:35Z   \n",
      "2   https://www.businessinsider.com/dave-ramsey-ch...  2024-12-23T13:25:54Z   \n",
      "3   https://gizmodo.com/canadian-man-crowned-as-ki...  2024-12-12T20:15:15Z   \n",
      "4   https://www.npr.org/2024/12/16/g-s1-38545/cana...  2024-12-17T04:55:08Z   \n",
      "..                                                ...                   ...   \n",
      "89  https://www.cnet.com/personal-finance/banking/...  2024-12-20T10:30:00Z   \n",
      "90  https://9to5mac.com/2024/12/14/the-future-of-t...  2024-12-14T11:00:00Z   \n",
      "91  https://www.aljazeera.com/news/2024/12/16/cana...  2024-12-16T17:09:00Z   \n",
      "92  https://finance.yahoo.com/news/elon-musk-says-...  2024-12-19T13:00:22Z   \n",
      "93  https://finance.yahoo.com/news/4-financial-hab...  2025-01-02T14:57:09Z   \n",
      "\n",
      "                                              content  \n",
      "0   Marcus Johnson says he hopes his case will hel...  \n",
      "1   New Year's celebration on January 1, 2023.Goth...  \n",
      "2   The offers and details on this page may have u...  \n",
      "3   The Microsoft Excel World Championships title ...  \n",
      "4   TORONTO Canadian Prime Minister Justin Trudeau...  \n",
      "..                                                ...  \n",
      "89  If you've been thinking of opening a certifica...  \n",
      "90  Apple @ Work is exclusively brought to you by ...  \n",
      "91  Canadas Finance Minister Chrystia Freeland has...  \n",
      "92  Benzinga and Yahoo Finance LLC may earn commis...  \n",
      "93  shapecharge / iStock/Getty Images\\r\\nReckless ...  \n",
      "\n",
      "[94 rows x 5 columns]\n"
     ]
    },
    {
     "name": "stderr",
     "output_type": "stream",
     "text": [
      "<>:1: SyntaxWarning: invalid escape sequence '\\['\n",
      "<>:1: SyntaxWarning: invalid escape sequence '\\['\n",
      "C:\\Users\\USER\\AppData\\Local\\Temp\\ipykernel_17116\\1800032389.py:1: SyntaxWarning: invalid escape sequence '\\['\n",
      "  dataset = dataset[~dataset.apply(lambda row: row.astype(str).str.contains('\\[Removed\\]').any(), axis=1)]\n"
     ]
    }
   ],
   "source": [
    "dataset = dataset[~dataset.apply(lambda row: row.astype(str).str.contains('\\[Removed\\]').any(), axis=1)]\n",
    "dataset.reset_index(drop=True, inplace=True)\n",
    "print(dataset)"
   ]
  },
  {
   "cell_type": "code",
   "execution_count": 37,
   "metadata": {},
   "outputs": [
    {
     "name": "stdout",
     "output_type": "stream",
     "text": [
      "https://api.smith.langchain.com\n"
     ]
    }
   ],
   "source": []
  },
  {
   "cell_type": "code",
   "execution_count": 35,
   "metadata": {},
   "outputs": [
    {
     "name": "stdout",
     "output_type": "stream",
     "text": [
      "CSV file 'news_articles.csv' has been created successfully.\n"
     ]
    }
   ],
   "source": [
    "# Define the CSV file name\n",
    "csv_file = \"news_articles.csv\"\n",
    "\n",
    "# Open the CSV file for writing\n",
    "with open(csv_file, mode=\"w\", newline=\"\", encoding=\"utf-8\") as file:\n",
    "    writer = csv.DictWriter(file, fieldnames=dataset.columns)\n",
    "    writer.writeheader()  # Write the header row\n",
    "    writer.writerows(dataset.to_dict('records'))  # Write the data\n",
    "\n",
    "print(f\"CSV file '{csv_file}' has been created successfully.\")"
   ]
  },
  {
   "cell_type": "code",
   "execution_count": 16,
   "metadata": {},
   "outputs": [],
   "source": [
    "import os\n",
    "\n",
    "os.environ[\"LANGCHAIN_TRACING_V2\"] = \"true\"\n",
    "os.environ[\"LANGCHAIN_ENDPOINT\"] = os.environ.get(\"LANGCHAIN_ENDPOINT\")\n",
    "os.environ[\"LANGCHAIN_API_KEY\"] = os.environ.get(\"LANGCHAIN_API_KEY\")\n",
    "os.environ[\"LANGCHAIN_PROJECT\"] = os.environ.get(\"LANGCHAIN_PROJECT\")\n",
    "os.environ[\"OPENAI_API_KEY\"] = os.environ.get(\"OPENAI_API_KEY\")\n"
   ]
  },
  {
   "cell_type": "code",
   "execution_count": 23,
   "metadata": {},
   "outputs": [],
   "source": [
    "import bs4\n",
    "from langchain import hub\n",
    "from langchain_community.document_loaders import WebBaseLoader\n",
    "from langchain_chroma import Chroma\n",
    "from langchain_core.output_parsers import StrOutputParser\n",
    "from langchain_core.runnables import RunnablePassthrough\n",
    "from langchain_openai import OpenAIEmbeddings\n",
    "from langchain_text_splitters import RecursiveCharacterTextSplitter"
   ]
  },
  {
   "cell_type": "code",
   "execution_count": 24,
   "metadata": {},
   "outputs": [],
   "source": [
    "from langchain_openai import ChatOpenAI\n",
    "\n",
    "llm = ChatOpenAI(model=\"gpt-3.5-turbo-0125\")"
   ]
  },
  {
   "cell_type": "code",
   "execution_count": 25,
   "metadata": {},
   "outputs": [],
   "source": [
    "# Load, chunk and index the contents of the blog.\n",
    "loader = WebBaseLoader(\n",
    "    web_paths=(\"https://lilianweng.github.io/posts/2023-06-23-agent/\",),\n",
    "    bs_kwargs=dict(\n",
    "        parse_only=bs4.SoupStrainer(\n",
    "            class_=(\"post-content\", \"post-title\", \"post-header\")\n",
    "        )\n",
    "    ),\n",
    ")\n",
    "docs = loader.load()\n",
    "\n",
    "text_splitter = RecursiveCharacterTextSplitter(chunk_size=1000, chunk_overlap=200)\n",
    "splits = text_splitter.split_documents(docs)\n",
    "vectorstore = Chroma.from_documents(documents=splits, embedding=OpenAIEmbeddings())"
   ]
  },
  {
   "cell_type": "code",
   "execution_count": 36,
   "metadata": {},
   "outputs": [
    {
     "name": "stdout",
     "output_type": "stream",
     "text": [
      "4\n"
     ]
    }
   ],
   "source": [
    "# Retrieve and generate using the relevant snippets of the blog.\n",
    "retriever = vectorstore.as_retriever(search_type=\"similarity\", top_k=5)\n",
    "# prompt = hub.pull(\"rlm/rag-prompt\")\n",
    "\n",
    "# def format_docs(docs):\n",
    "#     return \"\\n\\n\".join(doc.page_content for doc in docs)\n",
    "\n",
    "\n",
    "# rag_chain = (\n",
    "#     {\"context\": retriever | format_docs, \"question\": RunnablePassthrough()}\n",
    "#     | prompt\n",
    "#     | llm\n",
    "#     | StrOutputParser()\n",
    "# )\n",
    "\n",
    "retrieved_docs = retriever.invoke(\"finance\")\n",
    "print(len(retrieved_docs))"
   ]
  },
  {
   "cell_type": "code",
   "execution_count": 29,
   "metadata": {},
   "outputs": [
    {
     "name": "stdout",
     "output_type": "stream",
     "text": [
      "355\n"
     ]
    }
   ],
   "source": []
  },
  {
   "cell_type": "code",
   "execution_count": null,
   "metadata": {},
   "outputs": [],
   "source": []
  }
 ],
 "metadata": {
  "kernelspec": {
   "display_name": "env",
   "language": "python",
   "name": "python3"
  },
  "language_info": {
   "codemirror_mode": {
    "name": "ipython",
    "version": 3
   },
   "file_extension": ".py",
   "mimetype": "text/x-python",
   "name": "python",
   "nbconvert_exporter": "python",
   "pygments_lexer": "ipython3",
   "version": "3.12.1"
  }
 },
 "nbformat": 4,
 "nbformat_minor": 2
}
